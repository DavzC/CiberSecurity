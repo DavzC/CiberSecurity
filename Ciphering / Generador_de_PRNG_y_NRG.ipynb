{
  "nbformat": 4,
  "nbformat_minor": 0,
  "metadata": {
    "colab": {
      "provenance": [],
      "authorship_tag": "ABX9TyPfERubG1BXkK0QiU4t9F79"
    },
    "kernelspec": {
      "name": "python3",
      "display_name": "Python 3"
    },
    "language_info": {
      "name": "python"
    }
  },
  "cells": [
    {
      "cell_type": "markdown",
      "source": [
        "A través de la libreria \"secrets\" se pueden generar RNG y PRNG algunos ejemplos:"
      ],
      "metadata": {
        "id": "qidfNM0aKGUO"
      }
    },
    {
      "cell_type": "markdown",
      "source": [
        "1. Importamos la libreria \"secrets\""
      ],
      "metadata": {
        "id": "Bsqo_YdfKejf"
      }
    },
    {
      "cell_type": "code",
      "source": [
        "import secrets as s\n"
      ],
      "metadata": {
        "id": "sSuIXxgbKdRW"
      },
      "execution_count": 2,
      "outputs": []
    },
    {
      "cell_type": "markdown",
      "source": [
        "2. Para generar un PNRG (Generador de Pseudo números aleatorios) con un rango específico acudimos al comando de la parte inferior  "
      ],
      "metadata": {
        "id": "DYBL9NO-Kz_2"
      }
    },
    {
      "cell_type": "code",
      "execution_count": 6,
      "metadata": {
        "colab": {
          "base_uri": "https://localhost:8080/"
        },
        "id": "6cvCf1uiGjCT",
        "outputId": "479cbf9a-9f48-42d2-ddb8-817859281430"
      },
      "outputs": [
        {
          "output_type": "stream",
          "name": "stdout",
          "text": [
            "63\n"
          ]
        }
      ],
      "source": [
        "\n",
        "pnrg = s.randbelow(100)  # Número pseudoaleatorio entre 0 y 99\n",
        "print(pnrg)\n"
      ]
    },
    {
      "cell_type": "markdown",
      "source": [
        "3. Si lo que necesitamos es un NRG (Generador de número aleatorio) la función *randbits*, nos ayuda a generarlo siempre y cuando le asignemos o pongamos en sus argumentos un número el cual representará la cantidad de bits. Si lo anterior es difícil de entender buscar como generar números a partir de bits (Binario)"
      ],
      "metadata": {
        "id": "tdo7eStzLRSw"
      }
    },
    {
      "cell_type": "code",
      "source": [
        "bits = 2  # Cambia el número de bits según lo necesites\n",
        "nrg = s.randbits(bits)  # Número aleatorio con 32 bits\n",
        "print(nrg)\n"
      ],
      "metadata": {
        "colab": {
          "base_uri": "https://localhost:8080/"
        },
        "id": "S2FumiPbGpoV",
        "outputId": "a7a981b2-b420-460a-f278-483820c9a40d"
      },
      "execution_count": null,
      "outputs": [
        {
          "output_type": "stream",
          "name": "stdout",
          "text": [
            "0\n"
          ]
        }
      ]
    },
    {
      "cell_type": "markdown",
      "source": [
        "4. Si queremos más bien caracteres la función *token_bytes* nos retornará dependiendo del número de bytes seleccionado una secuencia aleatoria (Esta no se recomienda para contraseñas)"
      ],
      "metadata": {
        "id": "h3gzJkZoMPGz"
      }
    },
    {
      "cell_type": "code",
      "source": [
        "nrg_bytes = s.token_bytes(8)  # 8 bytes aleatorios\n",
        "print(nrg_bytes)\n"
      ],
      "metadata": {
        "colab": {
          "base_uri": "https://localhost:8080/"
        },
        "id": "ywjRau1vG3eP",
        "outputId": "1841e04c-0e6f-4cb0-da03-157365556d75"
      },
      "execution_count": null,
      "outputs": [
        {
          "output_type": "stream",
          "name": "stdout",
          "text": [
            "b'%G\\xcb\\xcf\\xed{\\xa8U'\n"
          ]
        }
      ]
    },
    {
      "cell_type": "markdown",
      "source": [
        "5. La que si se recomienda para contraseñas es la función *token_hex* la cual dependiendo de los bytes seleccionados nos retornará un token hexadecimal de esa misma cifra de bytes (Para aclara si alejimos como en el ejemplo de la parte inferior una cantidad de 16 bytes, nuestro token final tendrá 32 carácteres, por lo tanto será el doble del número de bytes)"
      ],
      "metadata": {
        "id": "AUsMmboTNH5g"
      }
    },
    {
      "cell_type": "code",
      "source": [
        "token = s.token_hex(16)  # Token hexadecimal de 16 bytes (32 caracteres hex)\n",
        "print(token)\n"
      ],
      "metadata": {
        "colab": {
          "base_uri": "https://localhost:8080/"
        },
        "id": "1f7QDm0wHAf9",
        "outputId": "66eda129-fdb9-4a82-aedd-689021b4d710"
      },
      "execution_count": null,
      "outputs": [
        {
          "output_type": "stream",
          "name": "stdout",
          "text": [
            "0b9789871867bafde152a439cde212a0\n"
          ]
        }
      ]
    },
    {
      "cell_type": "markdown",
      "source": [
        "Finalmente la libreria *secrets* nos da la función choice, la cual se encarga de elegir aleatoriamente un objeto dentro de un arreglo"
      ],
      "metadata": {
        "id": "aj0GoTX9N8qd"
      }
    },
    {
      "cell_type": "code",
      "source": [
        "opciones = [\"rojo\", \"azul\", \"verde\", \"amarillo\"]\n",
        "eleccion = s.choice(opciones)\n",
        "print(eleccion)\n"
      ],
      "metadata": {
        "colab": {
          "base_uri": "https://localhost:8080/"
        },
        "id": "-BH2dcGwHELi",
        "outputId": "e3a5a339-cf75-49e9-97a7-81c6730d9e8c"
      },
      "execution_count": null,
      "outputs": [
        {
          "output_type": "stream",
          "name": "stdout",
          "text": [
            "verde\n"
          ]
        }
      ]
    }
  ]
}